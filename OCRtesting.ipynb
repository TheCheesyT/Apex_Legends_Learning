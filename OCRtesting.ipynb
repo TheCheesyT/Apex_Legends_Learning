{
  "nbformat": 4,
  "nbformat_minor": 0,
  "metadata": {
    "colab": {
      "name": "Untitled3.ipynb",
      "provenance": [],
      "authorship_tag": "ABX9TyObyoABCs21ecy6WLfDaYtW",
      "include_colab_link": true
    },
    "kernelspec": {
      "name": "python3",
      "display_name": "Python 3"
    },
    "language_info": {
      "name": "python"
    }
  },
  "cells": [
    {
      "cell_type": "markdown",
      "metadata": {
        "id": "view-in-github",
        "colab_type": "text"
      },
      "source": [
        "<a href=\"https://colab.research.google.com/github/TheCheesyT/Apex_Legends_Learning/blob/main/OCRtesting.ipynb\" target=\"_parent\"><img src=\"https://colab.research.google.com/assets/colab-badge.svg\" alt=\"Open In Colab\"/></a>"
      ]
    },
    {
      "cell_type": "code",
      "execution_count": null,
      "metadata": {
        "colab": {
          "base_uri": "https://localhost:8080/"
        },
        "id": "AKs_Le_oO3Zt",
        "outputId": "33d6a501-c75f-417d-d97c-7e551d2727c5"
      },
      "outputs": [
        {
          "output_type": "stream",
          "name": "stdout",
          "text": [
            "Reading package lists... Done\n",
            "Building dependency tree       \n",
            "Reading state information... Done\n",
            "tesseract-ocr is already the newest version (4.00~git2288-10f4998a-2).\n",
            "0 upgraded, 0 newly installed, 0 to remove and 37 not upgraded.\n",
            "Requirement already satisfied: pytesseract in /usr/local/lib/python3.7/dist-packages (0.3.8)\n",
            "Requirement already satisfied: Pillow in /usr/local/lib/python3.7/dist-packages (from pytesseract) (7.1.2)\n"
          ]
        }
      ],
      "source": [
        "!sudo apt install tesseract-ocr\n",
        "\n",
        "!pip install pytesseract"
      ]
    },
    {
      "cell_type": "code",
      "source": [
        "import pytesseract\n",
        "\n",
        "import shutil\n",
        "\n",
        "import os\n",
        "\n",
        "import random\n",
        "\n",
        "from PIL import Image"
      ],
      "metadata": {
        "id": "9l6u0FOZO-2m"
      },
      "execution_count": 28,
      "outputs": []
    },
    {
      "cell_type": "code",
      "source": [
        "image_path_in_colab='ApexFontTraining.jpg'\n",
        "\n",
        "extractedInformation = pytesseract.image_to_string(Image.open(image_path_in_colab)) \n",
        "\n",
        "print(extractedInformation)\n"
      ],
      "metadata": {
        "colab": {
          "base_uri": "https://localhost:8080/"
        },
        "id": "VFS2YdNCPRKf",
        "outputId": "b8ad7983-f3c6-4c6f-8b40-7bfef053c094"
      },
      "execution_count": 34,
      "outputs": [
        {
          "output_type": "stream",
          "name": "stdout",
          "text": [
            "et)\n",
            "\n",
            "[EE] OPEN SEASON HUB Lf — — 2 Bee\n",
            "Zea 2 a” ~S SW eS\n",
            "\n",
            "< c é ¥ <<\n",
            "= \\ ¥ 2300/2500\n",
            "= | /), EVENT CHALLENGES\n",
            "\n",
            "UVM SCT S101) CA\n",
            "(GS A\n",
            "\n",
            "ener) TPT fs)\n",
            "MC 5” too\n",
            "ci a 415 100\n",
            "\n",
            "AUS Rus 5/8 200\n",
            "\n",
            "a7 ee\n",
            "\n",
            "apis yd Tes\n",
            "\n",
            "4\n",
            "pease oe = 7 = 24g? ‘ Boy ce\n",
            "ar [ets Wi “a } . BUNDLE\n",
            "\n",
            "ayaa)\n",
            "EUSP G cae\n",
            "\n",
            " \n",
            "\f\n"
          ]
        }
      ]
    }
  ]
}